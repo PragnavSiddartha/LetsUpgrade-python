{
  "nbformat": 4,
  "nbformat_minor": 0,
  "metadata": {
    "colab": {
      "provenance": [],
      "collapsed_sections": []
    },
    "kernelspec": {
      "name": "python3",
      "display_name": "Python 3"
    },
    "language_info": {
      "name": "python"
    }
  },
  "cells": [
    {
      "cell_type": "code",
      "execution_count": 3,
      "metadata": {
        "colab": {
          "base_uri": "https://localhost:8080/"
        },
        "id": "bdR5PDHA-TLq",
        "outputId": "207d1bca-3d7e-4a92-d79d-a96ff07350bd"
      },
      "outputs": [
        {
          "output_type": "stream",
          "name": "stdout",
          "text": [
            "Enter a number735\n",
            "The number is odd\n"
          ]
        }
      ],
      "source": [
        "num = int(input(\"Enter a number\"))\n",
        "if num%2==0:\n",
        "  print(\"The number is even\")\n",
        "\n",
        "else:\n",
        "    print(\"The number is odd\")\n"
      ]
    }
  ]
}